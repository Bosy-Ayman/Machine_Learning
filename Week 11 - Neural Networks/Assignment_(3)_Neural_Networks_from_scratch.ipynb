{
  "nbformat": 4,
  "nbformat_minor": 0,
  "metadata": {
    "colab": {
      "provenance": [],
      "authorship_tag": "ABX9TyONV8/jBvtuHeRnJc06J4vn",
      "include_colab_link": true
    },
    "kernelspec": {
      "name": "python3",
      "display_name": "Python 3"
    },
    "language_info": {
      "name": "python"
    }
  },
  "cells": [
    {
      "cell_type": "markdown",
      "metadata": {
        "id": "view-in-github",
        "colab_type": "text"
      },
      "source": [
        "<a href=\"https://colab.research.google.com/github/Bosy-Ayman/Machine_Learning/blob/main/Assignment_(3)_Neural_Networks_from_scratch.ipynb\" target=\"_parent\"><img src=\"https://colab.research.google.com/assets/colab-badge.svg\" alt=\"Open In Colab\"/></a>"
      ]
    },
    {
      "cell_type": "code",
      "execution_count": null,
      "metadata": {
        "id": "h3Slonv2G8jW"
      },
      "outputs": [],
      "source": []
    },
    {
      "cell_type": "markdown",
      "source": [
        "# Objective: we will be working on implementing a Neural Network from scratch.\n",
        "\n",
        "Requirements for the assignment:\n",
        "\n",
        "1- Using only NumPy and Pandas libraries create a Neural Network from scratch:\n",
        "Create the network architecture with input, hidden, and\n",
        "output layers based on the input-output shape.\n",
        "\n",
        "Define an activation function of your choice.\n",
        "\n",
        "Implement the FeedForward process.\n",
        "\n",
        "Implement the BackPropagation algorithm.\n",
        "\n",
        "Implement the Train and Test functions.\n",
        "\n",
        "2-Test your model on the MNIST Dataset.\n",
        "\n",
        "Calculate the confusion matrix and the accuracy of your model."
      ],
      "metadata": {
        "id": "eGdL5FQiIQx6"
      }
    }
  ]
}