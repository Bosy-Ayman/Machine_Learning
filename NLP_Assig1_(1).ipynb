{
  "nbformat": 4,
  "nbformat_minor": 0,
  "metadata": {
    "colab": {
      "provenance": [],
      "include_colab_link": true
    },
    "kernelspec": {
      "name": "python3",
      "display_name": "Python 3"
    },
    "language_info": {
      "name": "python"
    },
    "widgets": {
      "application/vnd.jupyter.widget-state+json": {
        "4aace430f2494079858f837702117bcb": {
          "model_module": "@jupyter-widgets/controls",
          "model_name": "HBoxModel",
          "model_module_version": "1.5.0",
          "state": {
            "_dom_classes": [],
            "_model_module": "@jupyter-widgets/controls",
            "_model_module_version": "1.5.0",
            "_model_name": "HBoxModel",
            "_view_count": null,
            "_view_module": "@jupyter-widgets/controls",
            "_view_module_version": "1.5.0",
            "_view_name": "HBoxView",
            "box_style": "",
            "children": [
              "IPY_MODEL_1ebfc62e2f0d43798f93a7f5d9c6ae51",
              "IPY_MODEL_af7cb025be914fa9819726937fb450b2",
              "IPY_MODEL_414f804b768345b296b6c4b8ed4b27af"
            ],
            "layout": "IPY_MODEL_d65aee7875d74fe79b4131315be87fd1"
          }
        },
        "1ebfc62e2f0d43798f93a7f5d9c6ae51": {
          "model_module": "@jupyter-widgets/controls",
          "model_name": "HTMLModel",
          "model_module_version": "1.5.0",
          "state": {
            "_dom_classes": [],
            "_model_module": "@jupyter-widgets/controls",
            "_model_module_version": "1.5.0",
            "_model_name": "HTMLModel",
            "_view_count": null,
            "_view_module": "@jupyter-widgets/controls",
            "_view_module_version": "1.5.0",
            "_view_name": "HTMLView",
            "description": "",
            "description_tooltip": null,
            "layout": "IPY_MODEL_e53f0c61b4ed4634a4062d58e8bb236c",
            "placeholder": "​",
            "style": "IPY_MODEL_0675b411990d42d0911d8bbefc95b68e",
            "value": "Map: 100%"
          }
        },
        "af7cb025be914fa9819726937fb450b2": {
          "model_module": "@jupyter-widgets/controls",
          "model_name": "FloatProgressModel",
          "model_module_version": "1.5.0",
          "state": {
            "_dom_classes": [],
            "_model_module": "@jupyter-widgets/controls",
            "_model_module_version": "1.5.0",
            "_model_name": "FloatProgressModel",
            "_view_count": null,
            "_view_module": "@jupyter-widgets/controls",
            "_view_module_version": "1.5.0",
            "_view_name": "ProgressView",
            "bar_style": "success",
            "description": "",
            "description_tooltip": null,
            "layout": "IPY_MODEL_48d4ad608dd24582893e806a703667cd",
            "max": 100,
            "min": 0,
            "orientation": "horizontal",
            "style": "IPY_MODEL_15e1c662a25446a9a3d349c19c6c35c4",
            "value": 100
          }
        },
        "414f804b768345b296b6c4b8ed4b27af": {
          "model_module": "@jupyter-widgets/controls",
          "model_name": "HTMLModel",
          "model_module_version": "1.5.0",
          "state": {
            "_dom_classes": [],
            "_model_module": "@jupyter-widgets/controls",
            "_model_module_version": "1.5.0",
            "_model_name": "HTMLModel",
            "_view_count": null,
            "_view_module": "@jupyter-widgets/controls",
            "_view_module_version": "1.5.0",
            "_view_name": "HTMLView",
            "description": "",
            "description_tooltip": null,
            "layout": "IPY_MODEL_cc0a3f331f5248a4ade518dfe2a1b2d0",
            "placeholder": "​",
            "style": "IPY_MODEL_2b189c2d131747bfb1d1fec9c610e33f",
            "value": " 100/100 [00:00&lt;00:00, 630.02 examples/s]"
          }
        },
        "d65aee7875d74fe79b4131315be87fd1": {
          "model_module": "@jupyter-widgets/base",
          "model_name": "LayoutModel",
          "model_module_version": "1.2.0",
          "state": {
            "_model_module": "@jupyter-widgets/base",
            "_model_module_version": "1.2.0",
            "_model_name": "LayoutModel",
            "_view_count": null,
            "_view_module": "@jupyter-widgets/base",
            "_view_module_version": "1.2.0",
            "_view_name": "LayoutView",
            "align_content": null,
            "align_items": null,
            "align_self": null,
            "border": null,
            "bottom": null,
            "display": null,
            "flex": null,
            "flex_flow": null,
            "grid_area": null,
            "grid_auto_columns": null,
            "grid_auto_flow": null,
            "grid_auto_rows": null,
            "grid_column": null,
            "grid_gap": null,
            "grid_row": null,
            "grid_template_areas": null,
            "grid_template_columns": null,
            "grid_template_rows": null,
            "height": null,
            "justify_content": null,
            "justify_items": null,
            "left": null,
            "margin": null,
            "max_height": null,
            "max_width": null,
            "min_height": null,
            "min_width": null,
            "object_fit": null,
            "object_position": null,
            "order": null,
            "overflow": null,
            "overflow_x": null,
            "overflow_y": null,
            "padding": null,
            "right": null,
            "top": null,
            "visibility": null,
            "width": null
          }
        },
        "e53f0c61b4ed4634a4062d58e8bb236c": {
          "model_module": "@jupyter-widgets/base",
          "model_name": "LayoutModel",
          "model_module_version": "1.2.0",
          "state": {
            "_model_module": "@jupyter-widgets/base",
            "_model_module_version": "1.2.0",
            "_model_name": "LayoutModel",
            "_view_count": null,
            "_view_module": "@jupyter-widgets/base",
            "_view_module_version": "1.2.0",
            "_view_name": "LayoutView",
            "align_content": null,
            "align_items": null,
            "align_self": null,
            "border": null,
            "bottom": null,
            "display": null,
            "flex": null,
            "flex_flow": null,
            "grid_area": null,
            "grid_auto_columns": null,
            "grid_auto_flow": null,
            "grid_auto_rows": null,
            "grid_column": null,
            "grid_gap": null,
            "grid_row": null,
            "grid_template_areas": null,
            "grid_template_columns": null,
            "grid_template_rows": null,
            "height": null,
            "justify_content": null,
            "justify_items": null,
            "left": null,
            "margin": null,
            "max_height": null,
            "max_width": null,
            "min_height": null,
            "min_width": null,
            "object_fit": null,
            "object_position": null,
            "order": null,
            "overflow": null,
            "overflow_x": null,
            "overflow_y": null,
            "padding": null,
            "right": null,
            "top": null,
            "visibility": null,
            "width": null
          }
        },
        "0675b411990d42d0911d8bbefc95b68e": {
          "model_module": "@jupyter-widgets/controls",
          "model_name": "DescriptionStyleModel",
          "model_module_version": "1.5.0",
          "state": {
            "_model_module": "@jupyter-widgets/controls",
            "_model_module_version": "1.5.0",
            "_model_name": "DescriptionStyleModel",
            "_view_count": null,
            "_view_module": "@jupyter-widgets/base",
            "_view_module_version": "1.2.0",
            "_view_name": "StyleView",
            "description_width": ""
          }
        },
        "48d4ad608dd24582893e806a703667cd": {
          "model_module": "@jupyter-widgets/base",
          "model_name": "LayoutModel",
          "model_module_version": "1.2.0",
          "state": {
            "_model_module": "@jupyter-widgets/base",
            "_model_module_version": "1.2.0",
            "_model_name": "LayoutModel",
            "_view_count": null,
            "_view_module": "@jupyter-widgets/base",
            "_view_module_version": "1.2.0",
            "_view_name": "LayoutView",
            "align_content": null,
            "align_items": null,
            "align_self": null,
            "border": null,
            "bottom": null,
            "display": null,
            "flex": null,
            "flex_flow": null,
            "grid_area": null,
            "grid_auto_columns": null,
            "grid_auto_flow": null,
            "grid_auto_rows": null,
            "grid_column": null,
            "grid_gap": null,
            "grid_row": null,
            "grid_template_areas": null,
            "grid_template_columns": null,
            "grid_template_rows": null,
            "height": null,
            "justify_content": null,
            "justify_items": null,
            "left": null,
            "margin": null,
            "max_height": null,
            "max_width": null,
            "min_height": null,
            "min_width": null,
            "object_fit": null,
            "object_position": null,
            "order": null,
            "overflow": null,
            "overflow_x": null,
            "overflow_y": null,
            "padding": null,
            "right": null,
            "top": null,
            "visibility": null,
            "width": null
          }
        },
        "15e1c662a25446a9a3d349c19c6c35c4": {
          "model_module": "@jupyter-widgets/controls",
          "model_name": "ProgressStyleModel",
          "model_module_version": "1.5.0",
          "state": {
            "_model_module": "@jupyter-widgets/controls",
            "_model_module_version": "1.5.0",
            "_model_name": "ProgressStyleModel",
            "_view_count": null,
            "_view_module": "@jupyter-widgets/base",
            "_view_module_version": "1.2.0",
            "_view_name": "StyleView",
            "bar_color": null,
            "description_width": ""
          }
        },
        "cc0a3f331f5248a4ade518dfe2a1b2d0": {
          "model_module": "@jupyter-widgets/base",
          "model_name": "LayoutModel",
          "model_module_version": "1.2.0",
          "state": {
            "_model_module": "@jupyter-widgets/base",
            "_model_module_version": "1.2.0",
            "_model_name": "LayoutModel",
            "_view_count": null,
            "_view_module": "@jupyter-widgets/base",
            "_view_module_version": "1.2.0",
            "_view_name": "LayoutView",
            "align_content": null,
            "align_items": null,
            "align_self": null,
            "border": null,
            "bottom": null,
            "display": null,
            "flex": null,
            "flex_flow": null,
            "grid_area": null,
            "grid_auto_columns": null,
            "grid_auto_flow": null,
            "grid_auto_rows": null,
            "grid_column": null,
            "grid_gap": null,
            "grid_row": null,
            "grid_template_areas": null,
            "grid_template_columns": null,
            "grid_template_rows": null,
            "height": null,
            "justify_content": null,
            "justify_items": null,
            "left": null,
            "margin": null,
            "max_height": null,
            "max_width": null,
            "min_height": null,
            "min_width": null,
            "object_fit": null,
            "object_position": null,
            "order": null,
            "overflow": null,
            "overflow_x": null,
            "overflow_y": null,
            "padding": null,
            "right": null,
            "top": null,
            "visibility": null,
            "width": null
          }
        },
        "2b189c2d131747bfb1d1fec9c610e33f": {
          "model_module": "@jupyter-widgets/controls",
          "model_name": "DescriptionStyleModel",
          "model_module_version": "1.5.0",
          "state": {
            "_model_module": "@jupyter-widgets/controls",
            "_model_module_version": "1.5.0",
            "_model_name": "DescriptionStyleModel",
            "_view_count": null,
            "_view_module": "@jupyter-widgets/base",
            "_view_module_version": "1.2.0",
            "_view_name": "StyleView",
            "description_width": ""
          }
        },
        "79a392632a9e425ba82c87a6c9fa8cbf": {
          "model_module": "@jupyter-widgets/controls",
          "model_name": "HBoxModel",
          "model_module_version": "1.5.0",
          "state": {
            "_dom_classes": [],
            "_model_module": "@jupyter-widgets/controls",
            "_model_module_version": "1.5.0",
            "_model_name": "HBoxModel",
            "_view_count": null,
            "_view_module": "@jupyter-widgets/controls",
            "_view_module_version": "1.5.0",
            "_view_name": "HBoxView",
            "box_style": "",
            "children": [
              "IPY_MODEL_4bce6c460f6048b7a86df24db8d28538",
              "IPY_MODEL_086716431a3245909b12e619074e76bd",
              "IPY_MODEL_023e05b4c60a4e6ca5c09fce4178b611"
            ],
            "layout": "IPY_MODEL_8e661b2e8c9d4a508baceea06260a577"
          }
        },
        "4bce6c460f6048b7a86df24db8d28538": {
          "model_module": "@jupyter-widgets/controls",
          "model_name": "HTMLModel",
          "model_module_version": "1.5.0",
          "state": {
            "_dom_classes": [],
            "_model_module": "@jupyter-widgets/controls",
            "_model_module_version": "1.5.0",
            "_model_name": "HTMLModel",
            "_view_count": null,
            "_view_module": "@jupyter-widgets/controls",
            "_view_module_version": "1.5.0",
            "_view_name": "HTMLView",
            "description": "",
            "description_tooltip": null,
            "layout": "IPY_MODEL_b28190b2f0254b7f832afbdcfdc39c3f",
            "placeholder": "​",
            "style": "IPY_MODEL_95ac00ddb6854c03aa6d270363363ee9",
            "value": "Map: 100%"
          }
        },
        "086716431a3245909b12e619074e76bd": {
          "model_module": "@jupyter-widgets/controls",
          "model_name": "FloatProgressModel",
          "model_module_version": "1.5.0",
          "state": {
            "_dom_classes": [],
            "_model_module": "@jupyter-widgets/controls",
            "_model_module_version": "1.5.0",
            "_model_name": "FloatProgressModel",
            "_view_count": null,
            "_view_module": "@jupyter-widgets/controls",
            "_view_module_version": "1.5.0",
            "_view_name": "ProgressView",
            "bar_style": "success",
            "description": "",
            "description_tooltip": null,
            "layout": "IPY_MODEL_0758462844c0441b8c758819e508314a",
            "max": 10,
            "min": 0,
            "orientation": "horizontal",
            "style": "IPY_MODEL_b5105f9fd2c349f8be060af366d79094",
            "value": 10
          }
        },
        "023e05b4c60a4e6ca5c09fce4178b611": {
          "model_module": "@jupyter-widgets/controls",
          "model_name": "HTMLModel",
          "model_module_version": "1.5.0",
          "state": {
            "_dom_classes": [],
            "_model_module": "@jupyter-widgets/controls",
            "_model_module_version": "1.5.0",
            "_model_name": "HTMLModel",
            "_view_count": null,
            "_view_module": "@jupyter-widgets/controls",
            "_view_module_version": "1.5.0",
            "_view_name": "HTMLView",
            "description": "",
            "description_tooltip": null,
            "layout": "IPY_MODEL_e07ba0e05a1548fb8613f1f7745e018d",
            "placeholder": "​",
            "style": "IPY_MODEL_3e49ef11ea0048329a14f14a39796999",
            "value": " 10/10 [00:00&lt;00:00, 337.60 examples/s]"
          }
        },
        "8e661b2e8c9d4a508baceea06260a577": {
          "model_module": "@jupyter-widgets/base",
          "model_name": "LayoutModel",
          "model_module_version": "1.2.0",
          "state": {
            "_model_module": "@jupyter-widgets/base",
            "_model_module_version": "1.2.0",
            "_model_name": "LayoutModel",
            "_view_count": null,
            "_view_module": "@jupyter-widgets/base",
            "_view_module_version": "1.2.0",
            "_view_name": "LayoutView",
            "align_content": null,
            "align_items": null,
            "align_self": null,
            "border": null,
            "bottom": null,
            "display": null,
            "flex": null,
            "flex_flow": null,
            "grid_area": null,
            "grid_auto_columns": null,
            "grid_auto_flow": null,
            "grid_auto_rows": null,
            "grid_column": null,
            "grid_gap": null,
            "grid_row": null,
            "grid_template_areas": null,
            "grid_template_columns": null,
            "grid_template_rows": null,
            "height": null,
            "justify_content": null,
            "justify_items": null,
            "left": null,
            "margin": null,
            "max_height": null,
            "max_width": null,
            "min_height": null,
            "min_width": null,
            "object_fit": null,
            "object_position": null,
            "order": null,
            "overflow": null,
            "overflow_x": null,
            "overflow_y": null,
            "padding": null,
            "right": null,
            "top": null,
            "visibility": null,
            "width": null
          }
        },
        "b28190b2f0254b7f832afbdcfdc39c3f": {
          "model_module": "@jupyter-widgets/base",
          "model_name": "LayoutModel",
          "model_module_version": "1.2.0",
          "state": {
            "_model_module": "@jupyter-widgets/base",
            "_model_module_version": "1.2.0",
            "_model_name": "LayoutModel",
            "_view_count": null,
            "_view_module": "@jupyter-widgets/base",
            "_view_module_version": "1.2.0",
            "_view_name": "LayoutView",
            "align_content": null,
            "align_items": null,
            "align_self": null,
            "border": null,
            "bottom": null,
            "display": null,
            "flex": null,
            "flex_flow": null,
            "grid_area": null,
            "grid_auto_columns": null,
            "grid_auto_flow": null,
            "grid_auto_rows": null,
            "grid_column": null,
            "grid_gap": null,
            "grid_row": null,
            "grid_template_areas": null,
            "grid_template_columns": null,
            "grid_template_rows": null,
            "height": null,
            "justify_content": null,
            "justify_items": null,
            "left": null,
            "margin": null,
            "max_height": null,
            "max_width": null,
            "min_height": null,
            "min_width": null,
            "object_fit": null,
            "object_position": null,
            "order": null,
            "overflow": null,
            "overflow_x": null,
            "overflow_y": null,
            "padding": null,
            "right": null,
            "top": null,
            "visibility": null,
            "width": null
          }
        },
        "95ac00ddb6854c03aa6d270363363ee9": {
          "model_module": "@jupyter-widgets/controls",
          "model_name": "DescriptionStyleModel",
          "model_module_version": "1.5.0",
          "state": {
            "_model_module": "@jupyter-widgets/controls",
            "_model_module_version": "1.5.0",
            "_model_name": "DescriptionStyleModel",
            "_view_count": null,
            "_view_module": "@jupyter-widgets/base",
            "_view_module_version": "1.2.0",
            "_view_name": "StyleView",
            "description_width": ""
          }
        },
        "0758462844c0441b8c758819e508314a": {
          "model_module": "@jupyter-widgets/base",
          "model_name": "LayoutModel",
          "model_module_version": "1.2.0",
          "state": {
            "_model_module": "@jupyter-widgets/base",
            "_model_module_version": "1.2.0",
            "_model_name": "LayoutModel",
            "_view_count": null,
            "_view_module": "@jupyter-widgets/base",
            "_view_module_version": "1.2.0",
            "_view_name": "LayoutView",
            "align_content": null,
            "align_items": null,
            "align_self": null,
            "border": null,
            "bottom": null,
            "display": null,
            "flex": null,
            "flex_flow": null,
            "grid_area": null,
            "grid_auto_columns": null,
            "grid_auto_flow": null,
            "grid_auto_rows": null,
            "grid_column": null,
            "grid_gap": null,
            "grid_row": null,
            "grid_template_areas": null,
            "grid_template_columns": null,
            "grid_template_rows": null,
            "height": null,
            "justify_content": null,
            "justify_items": null,
            "left": null,
            "margin": null,
            "max_height": null,
            "max_width": null,
            "min_height": null,
            "min_width": null,
            "object_fit": null,
            "object_position": null,
            "order": null,
            "overflow": null,
            "overflow_x": null,
            "overflow_y": null,
            "padding": null,
            "right": null,
            "top": null,
            "visibility": null,
            "width": null
          }
        },
        "b5105f9fd2c349f8be060af366d79094": {
          "model_module": "@jupyter-widgets/controls",
          "model_name": "ProgressStyleModel",
          "model_module_version": "1.5.0",
          "state": {
            "_model_module": "@jupyter-widgets/controls",
            "_model_module_version": "1.5.0",
            "_model_name": "ProgressStyleModel",
            "_view_count": null,
            "_view_module": "@jupyter-widgets/base",
            "_view_module_version": "1.2.0",
            "_view_name": "StyleView",
            "bar_color": null,
            "description_width": ""
          }
        },
        "e07ba0e05a1548fb8613f1f7745e018d": {
          "model_module": "@jupyter-widgets/base",
          "model_name": "LayoutModel",
          "model_module_version": "1.2.0",
          "state": {
            "_model_module": "@jupyter-widgets/base",
            "_model_module_version": "1.2.0",
            "_model_name": "LayoutModel",
            "_view_count": null,
            "_view_module": "@jupyter-widgets/base",
            "_view_module_version": "1.2.0",
            "_view_name": "LayoutView",
            "align_content": null,
            "align_items": null,
            "align_self": null,
            "border": null,
            "bottom": null,
            "display": null,
            "flex": null,
            "flex_flow": null,
            "grid_area": null,
            "grid_auto_columns": null,
            "grid_auto_flow": null,
            "grid_auto_rows": null,
            "grid_column": null,
            "grid_gap": null,
            "grid_row": null,
            "grid_template_areas": null,
            "grid_template_columns": null,
            "grid_template_rows": null,
            "height": null,
            "justify_content": null,
            "justify_items": null,
            "left": null,
            "margin": null,
            "max_height": null,
            "max_width": null,
            "min_height": null,
            "min_width": null,
            "object_fit": null,
            "object_position": null,
            "order": null,
            "overflow": null,
            "overflow_x": null,
            "overflow_y": null,
            "padding": null,
            "right": null,
            "top": null,
            "visibility": null,
            "width": null
          }
        },
        "3e49ef11ea0048329a14f14a39796999": {
          "model_module": "@jupyter-widgets/controls",
          "model_name": "DescriptionStyleModel",
          "model_module_version": "1.5.0",
          "state": {
            "_model_module": "@jupyter-widgets/controls",
            "_model_module_version": "1.5.0",
            "_model_name": "DescriptionStyleModel",
            "_view_count": null,
            "_view_module": "@jupyter-widgets/base",
            "_view_module_version": "1.2.0",
            "_view_name": "StyleView",
            "description_width": ""
          }
        }
      }
    }
  },
  "cells": [
    {
      "cell_type": "markdown",
      "metadata": {
        "id": "view-in-github",
        "colab_type": "text"
      },
      "source": [
        "<a href=\"https://colab.research.google.com/github/Bosy-Ayman/Machine_Learning/blob/main/NLP_Assig1_(1).ipynb\" target=\"_parent\"><img src=\"https://colab.research.google.com/assets/colab-badge.svg\" alt=\"Open In Colab\"/></a>"
      ]
    },
    {
      "cell_type": "code",
      "execution_count": null,
      "metadata": {
        "id": "SX6zD5jKDZF1"
      },
      "outputs": [],
      "source": [
        "!pip install transformers datasets evaluate accelerate bitsandbytes peft -q\n"
      ]
    },
    {
      "cell_type": "code",
      "source": [
        "import os, time, torch, random\n",
        "from transformers import AutoModelForCausalLM, AutoTokenizer, Trainer, TrainingArguments\n",
        "from datasets import load_dataset\n",
        "from peft import get_peft_model, LoraConfig, TaskType\n"
      ],
      "metadata": {
        "id": "uLYQgVAQDjCC"
      },
      "execution_count": null,
      "outputs": []
    },
    {
      "cell_type": "code",
      "source": [
        "os.environ[\"CUDA_LAUNCH_BLOCKING\"] = \"1\"\n",
        "device = \"cpu\"\n",
        "print(\"Using device:\", device)"
      ],
      "metadata": {
        "colab": {
          "base_uri": "https://localhost:8080/"
        },
        "id": "DwBSmVepZcZO",
        "outputId": "c8901190-ba3f-4b37-8c45-9c4cbe606919"
      },
      "execution_count": null,
      "outputs": [
        {
          "output_type": "stream",
          "name": "stdout",
          "text": [
            "Using device: cpu\n"
          ]
        }
      ]
    },
    {
      "cell_type": "markdown",
      "source": [
        "# Load the Model and Tokenizer"
      ],
      "metadata": {
        "id": "rxsutIpWdszj"
      }
    },
    {
      "cell_type": "code",
      "source": [
        "model_name = \"distilgpt2\"\n",
        "tokenizer  = AutoTokenizer.from_pretrained(model_name)\n",
        "model      = AutoModelForCausalLM.from_pretrained(model_name).to(device)\n"
      ],
      "metadata": {
        "id": "ZIeKBAeIZpKl"
      },
      "execution_count": null,
      "outputs": []
    },
    {
      "cell_type": "code",
      "source": [
        "\n",
        "if tokenizer.pad_token is None:\n",
        "    tokenizer.add_special_tokens({'pad_token': '[PAD]'})\n",
        "model.resize_token_embeddings(len(tokenizer))\n",
        "with torch.no_grad():\n",
        "    model.transformer.wte.weight[tokenizer.pad_token_id].zero_()\n"
      ],
      "metadata": {
        "id": "lPl8U77yZtsT"
      },
      "execution_count": null,
      "outputs": []
    },
    {
      "cell_type": "markdown",
      "source": [
        "#  Load 100 samples\n"
      ],
      "metadata": {
        "id": "ZtulguM8Zy0b"
      }
    },
    {
      "cell_type": "code",
      "source": [
        "wiki100 = load_dataset(\"wikitext\",\"wikitext-2-raw-v1\",split=\"test\").select(range(100))\n",
        "gsm100  = load_dataset(\"gsm8k\",\"main\",split=\"test\").select(range(100))\n"
      ],
      "metadata": {
        "id": "4zEF5n5cZxFz"
      },
      "execution_count": null,
      "outputs": []
    },
    {
      "cell_type": "markdown",
      "source": [
        "# Tokenize the Datase"
      ],
      "metadata": {
        "id": "_eGxggwyd0wQ"
      }
    },
    {
      "cell_type": "code",
      "source": [
        "def tok_w(b): return tokenizer(b[\"text\"],     truncation=True,padding=\"max_length\",max_length=128)\n",
        "def tok_g(b): return tokenizer(b[\"question\"], truncation=True,padding=\"max_length\",max_length=128)\n",
        "wiki100 = wiki100.map(tok_w, batched=True)\n",
        "gsm100  = gsm100.map(tok_g, batched=True)\n"
      ],
      "metadata": {
        "colab": {
          "base_uri": "https://localhost:8080/",
          "height": 49,
          "referenced_widgets": [
            "4aace430f2494079858f837702117bcb",
            "1ebfc62e2f0d43798f93a7f5d9c6ae51",
            "af7cb025be914fa9819726937fb450b2",
            "414f804b768345b296b6c4b8ed4b27af",
            "d65aee7875d74fe79b4131315be87fd1",
            "e53f0c61b4ed4634a4062d58e8bb236c",
            "0675b411990d42d0911d8bbefc95b68e",
            "48d4ad608dd24582893e806a703667cd",
            "15e1c662a25446a9a3d349c19c6c35c4",
            "cc0a3f331f5248a4ade518dfe2a1b2d0",
            "2b189c2d131747bfb1d1fec9c610e33f"
          ]
        },
        "id": "EYESJiswZ3Ji",
        "outputId": "77cb2ea6-2470-4e5b-8c32-51f24d79965a"
      },
      "execution_count": null,
      "outputs": [
        {
          "output_type": "display_data",
          "data": {
            "text/plain": [
              "Map:   0%|          | 0/100 [00:00<?, ? examples/s]"
            ],
            "application/vnd.jupyter.widget-view+json": {
              "version_major": 2,
              "version_minor": 0,
              "model_id": "4aace430f2494079858f837702117bcb"
            }
          },
          "metadata": {}
        }
      ]
    },
    {
      "cell_type": "markdown",
      "source": [
        "# Measure Throughput Function"
      ],
      "metadata": {
        "id": "OvEvW-5nd2-W"
      }
    },
    {
      "cell_type": "code",
      "source": [
        "def measure(ds, m, bs=8):\n",
        "    m.eval(); tot, t=0,0.0\n",
        "    with torch.no_grad():\n",
        "        for i in range(0,len(ds),bs):\n",
        "            inp = torch.tensor(ds[i:i+bs][\"input_ids\"],dtype=torch.long).to(device)\n",
        "            s=time.time(); _=m(inp); e=time.time()\n",
        "            tot+=inp.numel(); t+=e-s\n",
        "    return tot/t\n"
      ],
      "metadata": {
        "id": "RLG1Y40gbCX5"
      },
      "execution_count": null,
      "outputs": []
    },
    {
      "cell_type": "code",
      "source": [
        "ow,og = measure(wiki100, model), measure(gsm100, model)\n",
        "print(f\"Original → WikiText: {ow:.1f} tok/s, GSM8K: {og:.1f} tok/s\")"
      ],
      "metadata": {
        "colab": {
          "base_uri": "https://localhost:8080/"
        },
        "id": "pQ5ohWQGbFUT",
        "outputId": "3aa92f92-3503-4ba9-f739-93d348336f97"
      },
      "execution_count": null,
      "outputs": [
        {
          "output_type": "stream",
          "name": "stdout",
          "text": [
            "Original → WikiText: 232.2 tok/s, GSM8K: 267.2 tok/s\n"
          ]
        }
      ]
    },
    {
      "cell_type": "code",
      "source": [
        "try:\n",
        "    infer_model = torch.compile(model)\n",
        "    print(\" torch.compile inference model\")\n",
        "except:\n",
        "    infer_model = model\n",
        "cw,cg = measure(wiki100, infer_model), measure(gsm100, infer_model)\n",
        "print(f\"Compiled → WikiText: {cw:.1f} tok/s, GSM8K: {cg:.1f} tok/s\")\n"
      ],
      "metadata": {
        "colab": {
          "base_uri": "https://localhost:8080/"
        },
        "id": "curWyZ7NbKZe",
        "outputId": "bd84f2ee-a867-4a21-8827-02c5b4ec0e4d"
      },
      "execution_count": null,
      "outputs": [
        {
          "output_type": "stream",
          "name": "stdout",
          "text": [
            " torch.compile inference model\n",
            "Compiled → WikiText: 224.4 tok/s, GSM8K: 284.4 tok/s\n"
          ]
        }
      ]
    },
    {
      "cell_type": "markdown",
      "source": [
        "# Prepare 10 sample train set with labels\n"
      ],
      "metadata": {
        "id": "SBLShyyxbQYE"
      }
    },
    {
      "cell_type": "code",
      "source": [
        "trin_ds = wiki100.select(range(10)).map(lambda b: {\"labels\": b[\"input_ids\"]}, batched=True)"
      ],
      "metadata": {
        "colab": {
          "base_uri": "https://localhost:8080/",
          "height": 49,
          "referenced_widgets": [
            "79a392632a9e425ba82c87a6c9fa8cbf",
            "4bce6c460f6048b7a86df24db8d28538",
            "086716431a3245909b12e619074e76bd",
            "023e05b4c60a4e6ca5c09fce4178b611",
            "8e661b2e8c9d4a508baceea06260a577",
            "b28190b2f0254b7f832afbdcfdc39c3f",
            "95ac00ddb6854c03aa6d270363363ee9",
            "0758462844c0441b8c758819e508314a",
            "b5105f9fd2c349f8be060af366d79094",
            "e07ba0e05a1548fb8613f1f7745e018d",
            "3e49ef11ea0048329a14f14a39796999"
          ]
        },
        "id": "bH_6iKsjbNRp",
        "outputId": "3912aff4-5774-45d1-9e01-1272462faf7d"
      },
      "execution_count": null,
      "outputs": [
        {
          "output_type": "display_data",
          "data": {
            "text/plain": [
              "Map:   0%|          | 0/10 [00:00<?, ? examples/s]"
            ],
            "application/vnd.jupyter.widget-view+json": {
              "version_major": 2,
              "version_minor": 0,
              "model_id": "79a392632a9e425ba82c87a6c9fa8cbf"
            }
          },
          "metadata": {}
        }
      ]
    },
    {
      "cell_type": "code",
      "source": [
        "peft_cfg = LoraConfig(task_type=TaskType.CAUSAL_LM,inference_mode=False,\n",
        "                     r=8,lora_alpha=32,lora_dropout=0.1)\n",
        "model_lora = get_peft_model(model, peft_cfg)\n",
        "\n",
        "train_args = TrainingArguments(output_dir=\"./lora\",per_device_train_batch_size=8,\n",
        "                                num_train_epochs=1,logging_steps=10,report_to=\"none\",\n",
        "                                label_names=[\"labels\"])\n",
        "trainer = Trainer(model=model_lora,args=train_args,train_dataset=train_ds)\n",
        "print(\"Starting LoRA fine-tuning…\")\n",
        "trainer.train()\n"
      ],
      "metadata": {
        "colab": {
          "base_uri": "https://localhost:8080/",
          "height": 234
        },
        "id": "gE_OJ8QXbgaZ",
        "outputId": "d0c34eb7-7b1c-41d9-a9ee-11f82b411dc0"
      },
      "execution_count": null,
      "outputs": [
        {
          "output_type": "stream",
          "name": "stdout",
          "text": [
            "Starting LoRA fine-tuning…\n"
          ]
        },
        {
          "output_type": "stream",
          "name": "stderr",
          "text": [
            "/usr/local/lib/python3.11/dist-packages/peft/tuners/lora/layer.py:1264: UserWarning: fan_in_fan_out is set to False but the target module is `Conv1D`. Setting fan_in_fan_out to True.\n",
            "  warnings.warn(\n"
          ]
        },
        {
          "output_type": "display_data",
          "data": {
            "text/plain": [
              "<IPython.core.display.HTML object>"
            ],
            "text/html": [
              "\n",
              "    <div>\n",
              "      \n",
              "      <progress value='2' max='2' style='width:300px; height:20px; vertical-align: middle;'></progress>\n",
              "      [2/2 00:16, Epoch 1/1]\n",
              "    </div>\n",
              "    <table border=\"1\" class=\"dataframe\">\n",
              "  <thead>\n",
              " <tr style=\"text-align: left;\">\n",
              "      <th>Step</th>\n",
              "      <th>Training Loss</th>\n",
              "    </tr>\n",
              "  </thead>\n",
              "  <tbody>\n",
              "  </tbody>\n",
              "</table><p>"
            ]
          },
          "metadata": {}
        },
        {
          "output_type": "stream",
          "name": "stderr",
          "text": [
            "/usr/local/lib/python3.11/dist-packages/peft/utils/save_and_load.py:260: UserWarning: Setting `save_embedding_layers` to `True` as the embedding layer has been resized during finetuning.\n",
            "  warnings.warn(\n"
          ]
        },
        {
          "output_type": "execute_result",
          "data": {
            "text/plain": [
              "TrainOutput(global_step=2, training_loss=15.957096099853516, metrics={'train_runtime': 50.0615, 'train_samples_per_second': 0.2, 'train_steps_per_second': 0.04, 'total_flos': 327753400320.0, 'train_loss': 15.957096099853516, 'epoch': 1.0})"
            ]
          },
          "metadata": {},
          "execution_count": 60
        }
      ]
    },
    {
      "cell_type": "code",
      "source": [
        "fw,fg = measure(wiki100, model_lora), measure(gsm100, model_lora)\n",
        "print(f\"Fine-tuned → WikiText: {fw:.1f} tok/s, GSM8K: {fg:.1f} tok/s\")\n"
      ],
      "metadata": {
        "colab": {
          "base_uri": "https://localhost:8080/"
        },
        "id": "Sq5g_iofEbIS",
        "outputId": "9c2719ad-8d6a-4adf-a895-accb0afdc7a4"
      },
      "execution_count": null,
      "outputs": [
        {
          "output_type": "stream",
          "name": "stdout",
          "text": [
            "Fine-tuned → WikiText: 274.0 tok/s, GSM8K: 279.9 tok/s\n"
          ]
        }
      ]
    },
    {
      "cell_type": "code",
      "source": [
        "throughput = {\n",
        "    \"Original WikiText\": ow,\n",
        "    \"Original GSM8K\": og,\n",
        "    \"Compiled WikiText\": cw,\n",
        "    \"Compiled GSM8K\": cg,\n",
        "    \"Fine-tuned WikiText\": fw,\n",
        "    \"Fine-tuned GSM8K\": fg,\n",
        "}"
      ],
      "metadata": {
        "id": "6S_vQ2d-Yy0E"
      },
      "execution_count": null,
      "outputs": []
    },
    {
      "cell_type": "markdown",
      "source": [
        "#  bar plot to compare throughput\n"
      ],
      "metadata": {
        "id": "uNGQblABY18N"
      }
    },
    {
      "cell_type": "markdown",
      "source": [
        "Throughput is compared across three versions of the model: Original, Optimized , and Fine-tuned."
      ],
      "metadata": {
        "id": "LLU4ej_ReB4l"
      }
    },
    {
      "cell_type": "code",
      "source": [
        "\n",
        "\n",
        "datasets = ['WikiText', 'GSM8K']\n",
        "original_throughput = [ow, og]\n",
        "compiled_throughput = [cw, cg]\n",
        "fine_tuned_throughput = [fw, fg]\n"
      ],
      "metadata": {
        "id": "XP31ur5ZY0XB"
      },
      "execution_count": null,
      "outputs": []
    },
    {
      "cell_type": "code",
      "source": [
        "fig, ax = plt.subplots(figsize=(10, 6))\n",
        "width = 0.2\n",
        "x = range(len(datasets))\n",
        "\n",
        "ax.bar(x, original_throughput, width, label='Original', color='blue')\n",
        "ax.bar([p + width for p in x], compiled_throughput, width, label='Compiled', color='green')\n",
        "ax.bar([p + width * 2 for p in x], fine_tuned_throughput, width, label='Fine-tuned', color='red')\n",
        "\n",
        "ax.set_xlabel('Dataset')\n",
        "ax.set_ylabel('Throughput (tokens per second)')\n",
        "ax.set_title('Throughput Comparison of Different Model Versions')\n",
        "ax.set_xticks([p + width for p in x])\n",
        "ax.set_xticklabels(datasets)\n",
        "ax.legend()\n",
        "\n",
        "plt.show()\n"
      ],
      "metadata": {
        "colab": {
          "base_uri": "https://localhost:8080/",
          "height": 584
        },
        "id": "OOfoIrYKXdAH",
        "outputId": "dbfeedbc-354e-4392-e5c1-0f1af9298113"
      },
      "execution_count": null,
      "outputs": [
        {
          "output_type": "display_data",
          "data": {
            "text/plain": [
              "<Figure size 1000x600 with 1 Axes>"
            ],
            "image/png": "[encoded data removed]"
          },
          "metadata": {}
        }
      ]
    },
    {
      "cell_type": "markdown",
      "source": [
        "**Hardware Requirements:**\n",
        "\n",
        "**Device:**use GPU for faster processing."
      ],
      "metadata": {
        "id": "zns4GZozdn3w"
      }
    }
  ]
}